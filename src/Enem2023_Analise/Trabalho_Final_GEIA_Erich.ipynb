{
  "cells": [
    {
      "cell_type": "markdown",
      "metadata": {
        "id": "j3Liw9RuEJ1N"
      },
      "source": [
        "#Trabalho Final"
      ]
    },
    {
      "cell_type": "markdown",
      "metadata": {
        "id": "8FBw6jdHEW4c"
      },
      "source": [
        "##Introdução\n"
      ]
    },
    {
      "cell_type": "markdown",
      "metadata": {
        "id": "ws99ryrnEakk"
      },
      "source": [
        "##Código"
      ]
    },
    {
      "cell_type": "markdown",
      "metadata": {
        "id": "_6WfC0P6Cw7Q"
      },
      "source": [
        "###Instalando das Bibliotecas\n"
      ]
    },
    {
      "cell_type": "code",
      "execution_count": null,
      "metadata": {
        "colab": {
          "background_save": true,
          "base_uri": "https://localhost:8080/"
        },
        "id": "SWF8Bhs3D8yr",
        "outputId": "ee525e07-2bbe-454b-999b-03b7a2820ec1"
      },
      "outputs": [
        {
          "name": "stdout",
          "output_type": "stream",
          "text": [
            "Requirement already satisfied: pandas in /usr/local/lib/python3.11/dist-packages (2.2.2)\n",
            "Requirement already satisfied: numpy in /usr/local/lib/python3.11/dist-packages (2.0.2)\n",
            "Requirement already satisfied: matplotlib in /usr/local/lib/python3.11/dist-packages (3.10.0)\n",
            "Requirement already satisfied: python-dateutil>=2.8.2 in /usr/local/lib/python3.11/dist-packages (from pandas) (2.9.0.post0)\n",
            "Requirement already satisfied: pytz>=2020.1 in /usr/local/lib/python3.11/dist-packages (from pandas) (2025.2)\n",
            "Requirement already satisfied: tzdata>=2022.7 in /usr/local/lib/python3.11/dist-packages (from pandas) (2025.2)\n",
            "Requirement already satisfied: contourpy>=1.0.1 in /usr/local/lib/python3.11/dist-packages (from matplotlib) (1.3.2)\n",
            "Requirement already satisfied: cycler>=0.10 in /usr/local/lib/python3.11/dist-packages (from matplotlib) (0.12.1)\n",
            "Requirement already satisfied: fonttools>=4.22.0 in /usr/local/lib/python3.11/dist-packages (from matplotlib) (4.58.4)\n",
            "Requirement already satisfied: kiwisolver>=1.3.1 in /usr/local/lib/python3.11/dist-packages (from matplotlib) (1.4.8)\n",
            "Requirement already satisfied: packaging>=20.0 in /usr/local/lib/python3.11/dist-packages (from matplotlib) (24.2)\n",
            "Requirement already satisfied: pillow>=8 in /usr/local/lib/python3.11/dist-packages (from matplotlib) (11.2.1)\n",
            "Requirement already satisfied: pyparsing>=2.3.1 in /usr/local/lib/python3.11/dist-packages (from matplotlib) (3.2.3)\n",
            "Requirement already satisfied: six>=1.5 in /usr/local/lib/python3.11/dist-packages (from python-dateutil>=2.8.2->pandas) (1.17.0)\n"
          ]
        }
      ],
      "source": [
        "!pip install pandas numpy matplotlib"
      ]
    },
    {
      "cell_type": "markdown",
      "metadata": {
        "id": "GI2tsTZtED1h"
      },
      "source": [
        "###Importando as Bibliotecas"
      ]
    },
    {
      "cell_type": "code",
      "execution_count": null,
      "metadata": {
        "colab": {
          "background_save": true
        },
        "id": "5uf9XG6uEHLS"
      },
      "outputs": [],
      "source": [
        "import pandas as pd\n",
        "import numpy as np\n",
        "import matplotlib.pyplot as plt"
      ]
    },
    {
      "cell_type": "markdown",
      "metadata": {
        "id": "mouMI61rJqNi"
      },
      "source": [
        "####Leitura dos dados"
      ]
    },
    {
      "cell_type": "code",
      "execution_count": null,
      "metadata": {
        "id": "Npkq0VpdJtbO"
      },
      "outputs": [],
      "source": [
        "df = pd.read_csv('MICRODADOS_ENEM_2023.csv', sep=';', encoding='latin1')"
      ]
    },
    {
      "cell_type": "code",
      "execution_count": null,
      "metadata": {
        "id": "TSVUE8BciZLT"
      },
      "outputs": [],
      "source": [
        "colunas_renomeadas = {\n",
        "    'NU_INSCRICAO': 'inscricao',\n",
        "    'TP_SEXO': 'sexo',\n",
        "    'TP_FAIXA_ETARIA': 'faixa_etaria',\n",
        "    'TP_ESTADO_CIVIL': 'estado_civil',\n",
        "    'TP_COR_RACA': 'cor_raca',\n",
        "    'TP_NACIONALIDADE': 'nacionalidade',\n",
        "    'TP_ST_CONCLUSAO': 'status_conclusao',\n",
        "    'TP_ESCOLA': 'tipo_escola',\n",
        "    'TP_ENSINO': 'modalidade_ensino',\n",
        "    'TP_PRESENCA_CN': 'presenca_natureza',\n",
        "    'TP_PRESENCA_CH': 'presenca_humanas',\n",
        "    'TP_PRESENCA_LC': 'presenca_linguagens',\n",
        "    'TP_PRESENCA_MT': 'presenca_matematica',\n",
        "    'NU_NOTA_CN': 'nota_natureza',\n",
        "    'NU_NOTA_CH': 'nota_humanas',\n",
        "    'NU_NOTA_LC': 'nota_linguagens',\n",
        "    'NU_NOTA_MT': 'nota_matematica',\n",
        "    'NU_NOTA_REDACAO': 'nota_redacao',\n",
        "    'TP_STATUS_REDACAO': 'status_redacao',\n",
        "    'Q006': 'faixa_renda_familiar'}\n",
        "\n",
        "df.rename(columns=colunas_renomeadas, inplace=True)\n"
      ]
    },
    {
      "cell_type": "code",
      "execution_count": null,
      "metadata": {
        "id": "9i2CSzlGVJG8"
      },
      "outputs": [],
      "source": [
        "df['sexo'] = df['sexo'].map({'M': 'Masculino', 'F': 'Feminino'})\n"
      ]
    },
    {
      "cell_type": "code",
      "execution_count": null,
      "metadata": {
        "id": "K0IGQJT7Wj7S"
      },
      "outputs": [],
      "source": [
        "mapa_presenca = {0: 'Faltou', 1: 'Presente', 2: 'Eliminado'}\n",
        "df['presenca_natureza'] = df['presenca_natureza'].map(mapa_presenca)\n",
        "df['presenca_humanas'] = df['presenca_humanas'].map(mapa_presenca)\n",
        "df['presenca_linguagens'] = df['presenca_linguagens'].map(mapa_presenca)\n",
        "df['presenca_matematica'] = df['presenca_matematica'].map(mapa_presenca)\n"
      ]
    },
    {
      "cell_type": "code",
      "execution_count": null,
      "metadata": {
        "colab": {
          "base_uri": "https://localhost:8080/"
        },
        "collapsed": true,
        "id": "KNmhllVLhRp9",
        "outputId": "b19cd484-b105-475e-c8eb-db60c6f0037b"
      },
      "outputs": [
        {
          "name": "stdout",
          "output_type": "stream",
          "text": [
            "<class 'pandas.core.frame.DataFrame'>\n",
            "RangeIndex: 24260 entries, 0 to 24259\n",
            "Data columns (total 76 columns):\n",
            " #   Column                  Non-Null Count  Dtype  \n",
            "---  ------                  --------------  -----  \n",
            " 0   inscricao               24260 non-null  int64  \n",
            " 1   NU_ANO                  24260 non-null  int64  \n",
            " 2   faixa_etaria            24260 non-null  int64  \n",
            " 3   sexo                    24260 non-null  object \n",
            " 4   estado_civil            24260 non-null  int64  \n",
            " 5   cor_raca                24260 non-null  int64  \n",
            " 6   nacionalidade           24260 non-null  int64  \n",
            " 7   status_conclusao        24260 non-null  int64  \n",
            " 8   TP_ANO_CONCLUIU         24260 non-null  int64  \n",
            " 9   tipo_escola             24260 non-null  int64  \n",
            " 10  modalidade_ensino       7893 non-null   float64\n",
            " 11  IN_TREINEIRO            24260 non-null  int64  \n",
            " 12  CO_MUNICIPIO_ESC        4546 non-null   float64\n",
            " 13  NO_MUNICIPIO_ESC        4546 non-null   object \n",
            " 14  CO_UF_ESC               4546 non-null   float64\n",
            " 15  SG_UF_ESC               4546 non-null   object \n",
            " 16  TP_DEPENDENCIA_ADM_ESC  4546 non-null   float64\n",
            " 17  TP_LOCALIZACAO_ESC      4546 non-null   float64\n",
            " 18  TP_SIT_FUNC_ESC         4546 non-null   float64\n",
            " 19  CO_MUNICIPIO_PROVA      24260 non-null  int64  \n",
            " 20  NO_MUNICIPIO_PROVA      24260 non-null  object \n",
            " 21  CO_UF_PROVA             24260 non-null  int64  \n",
            " 22  SG_UF_PROVA             24260 non-null  object \n",
            " 23  presenca_natureza       24260 non-null  object \n",
            " 24  presenca_humanas        24260 non-null  object \n",
            " 25  presenca_linguagens     24260 non-null  object \n",
            " 26  presenca_matematica     24260 non-null  object \n",
            " 27  CO_PROVA_CN             18119 non-null  float64\n",
            " 28  CO_PROVA_CH             18779 non-null  float64\n",
            " 29  CO_PROVA_LC             18779 non-null  float64\n",
            " 30  CO_PROVA_MT             18119 non-null  float64\n",
            " 31  nota_natureza           18119 non-null  float64\n",
            " 32  nota_humanas            18779 non-null  float64\n",
            " 33  nota_linguagens         18779 non-null  float64\n",
            " 34  nota_matematica         18119 non-null  float64\n",
            " 35  TX_RESPOSTAS_CN         18119 non-null  object \n",
            " 36  TX_RESPOSTAS_CH         18779 non-null  object \n",
            " 37  TX_RESPOSTAS_LC         18779 non-null  object \n",
            " 38  TX_RESPOSTAS_MT         18119 non-null  object \n",
            " 39  TP_LINGUA               24260 non-null  int64  \n",
            " 40  TX_GABARITO_CN          18119 non-null  object \n",
            " 41  TX_GABARITO_CH          18779 non-null  object \n",
            " 42  TX_GABARITO_LC          18779 non-null  object \n",
            " 43  TX_GABARITO_MT          18118 non-null  object \n",
            " 44  status_redacao          18778 non-null  float64\n",
            " 45  NU_NOTA_COMP1           18778 non-null  float64\n",
            " 46  NU_NOTA_COMP2           18778 non-null  float64\n",
            " 47  NU_NOTA_COMP3           18778 non-null  float64\n",
            " 48  NU_NOTA_COMP4           18778 non-null  float64\n",
            " 49  NU_NOTA_COMP5           18778 non-null  float64\n",
            " 50  nota_redacao            18778 non-null  float64\n",
            " 51  Q001                    24259 non-null  object \n",
            " 52  Q002                    24259 non-null  object \n",
            " 53  Q003                    24259 non-null  object \n",
            " 54  Q004                    24259 non-null  object \n",
            " 55  Q005                    24259 non-null  float64\n",
            " 56  faixa_renda_familiar    24259 non-null  object \n",
            " 57  Q007                    24259 non-null  object \n",
            " 58  Q008                    24259 non-null  object \n",
            " 59  Q009                    24259 non-null  object \n",
            " 60  Q010                    24259 non-null  object \n",
            " 61  Q011                    24259 non-null  object \n",
            " 62  Q012                    24259 non-null  object \n",
            " 63  Q013                    24259 non-null  object \n",
            " 64  Q014                    24259 non-null  object \n",
            " 65  Q015                    24259 non-null  object \n",
            " 66  Q016                    24259 non-null  object \n",
            " 67  Q017                    24259 non-null  object \n",
            " 68  Q018                    24259 non-null  object \n",
            " 69  Q019                    24259 non-null  object \n",
            " 70  Q020                    24259 non-null  object \n",
            " 71  Q021                    24259 non-null  object \n",
            " 72  Q022                    24259 non-null  object \n",
            " 73  Q023                    24259 non-null  object \n",
            " 74  Q024                    24259 non-null  object \n",
            " 75  Q025                    24259 non-null  object \n",
            "dtypes: float64(22), int64(13), object(41)\n",
            "memory usage: 14.1+ MB\n"
          ]
        }
      ],
      "source": [
        "df.info()"
      ]
    },
    {
      "cell_type": "markdown",
      "metadata": {
        "id": "ZUayRc4XLH9o"
      },
      "source": [
        "####Abrindo os datasets inicialmente"
      ]
    },
    {
      "cell_type": "code",
      "execution_count": null,
      "metadata": {
        "colab": {
          "background_save": true,
          "base_uri": "https://localhost:8080/"
        },
        "id": "_iSwG-2FjeF9",
        "outputId": "1a1a1a66-6566-4f5c-bd45-292b99b5a79b"
      },
      "outputs": [
        {
          "data": {
            "text/plain": [
              "(529073, 76)"
            ]
          },
          "execution_count": 8,
          "metadata": {},
          "output_type": "execute_result"
        }
      ],
      "source": [
        "df.shape"
      ]
    },
    {
      "cell_type": "code",
      "execution_count": null,
      "metadata": {
        "colab": {
          "base_uri": "https://localhost:8080/"
        },
        "collapsed": true,
        "id": "wMMwYEk6lO-4",
        "outputId": "1cb986e1-ef74-4618-be18-0da74df18139"
      },
      "outputs": [
        {
          "data": {
            "text/plain": [
              "['inscricao',\n",
              " 'NU_ANO',\n",
              " 'faixa_etaria',\n",
              " 'sexo',\n",
              " 'estado_civil',\n",
              " 'cor_raca',\n",
              " 'nacionalidade',\n",
              " 'status_conclusao',\n",
              " 'TP_ANO_CONCLUIU',\n",
              " 'tipo_escola',\n",
              " 'modalidade_ensino',\n",
              " 'IN_TREINEIRO',\n",
              " 'CO_MUNICIPIO_ESC',\n",
              " 'NO_MUNICIPIO_ESC',\n",
              " 'CO_UF_ESC',\n",
              " 'SG_UF_ESC',\n",
              " 'TP_DEPENDENCIA_ADM_ESC',\n",
              " 'TP_LOCALIZACAO_ESC',\n",
              " 'TP_SIT_FUNC_ESC',\n",
              " 'CO_MUNICIPIO_PROVA',\n",
              " 'NO_MUNICIPIO_PROVA',\n",
              " 'CO_UF_PROVA',\n",
              " 'SG_UF_PROVA',\n",
              " 'presenca_natureza',\n",
              " 'presenca_humanas',\n",
              " 'presenca_linguagens',\n",
              " 'presenca_matematica',\n",
              " 'CO_PROVA_CN',\n",
              " 'CO_PROVA_CH',\n",
              " 'CO_PROVA_LC',\n",
              " 'CO_PROVA_MT',\n",
              " 'nota_natureza',\n",
              " 'nota_humanas',\n",
              " 'nota_linguagens',\n",
              " 'nota_matematica',\n",
              " 'TX_RESPOSTAS_CN',\n",
              " 'TX_RESPOSTAS_CH',\n",
              " 'TX_RESPOSTAS_LC',\n",
              " 'TX_RESPOSTAS_MT',\n",
              " 'TP_LINGUA',\n",
              " 'TX_GABARITO_CN',\n",
              " 'TX_GABARITO_CH',\n",
              " 'TX_GABARITO_LC',\n",
              " 'TX_GABARITO_MT',\n",
              " 'status_redacao',\n",
              " 'NU_NOTA_COMP1',\n",
              " 'NU_NOTA_COMP2',\n",
              " 'NU_NOTA_COMP3',\n",
              " 'NU_NOTA_COMP4',\n",
              " 'NU_NOTA_COMP5',\n",
              " 'nota_redacao',\n",
              " 'Q001',\n",
              " 'Q002',\n",
              " 'Q003',\n",
              " 'Q004',\n",
              " 'Q005',\n",
              " 'faixa_renda_familiar',\n",
              " 'Q007',\n",
              " 'Q008',\n",
              " 'Q009',\n",
              " 'Q010',\n",
              " 'Q011',\n",
              " 'Q012',\n",
              " 'Q013',\n",
              " 'Q014',\n",
              " 'Q015',\n",
              " 'Q016',\n",
              " 'Q017',\n",
              " 'Q018',\n",
              " 'Q019',\n",
              " 'Q020',\n",
              " 'Q021',\n",
              " 'Q022',\n",
              " 'Q023',\n",
              " 'Q024',\n",
              " 'Q025']"
            ]
          },
          "execution_count": 8,
          "metadata": {},
          "output_type": "execute_result"
        }
      ],
      "source": [
        "df.columns.tolist()"
      ]
    },
    {
      "cell_type": "code",
      "execution_count": null,
      "metadata": {
        "colab": {
          "base_uri": "https://localhost:8080/",
          "height": 115
        },
        "id": "PDotLraOku2-",
        "outputId": "673a4059-5d43-417a-84fd-fee07988f1e3"
      },
      "outputs": [
        {
          "data": {
            "text/html": [
              "<div>\n",
              "<style scoped>\n",
              "    .dataframe tbody tr th:only-of-type {\n",
              "        vertical-align: middle;\n",
              "    }\n",
              "\n",
              "    .dataframe tbody tr th {\n",
              "        vertical-align: top;\n",
              "    }\n",
              "\n",
              "    .dataframe thead th {\n",
              "        text-align: right;\n",
              "    }\n",
              "</style>\n",
              "<table border=\"1\" class=\"dataframe\">\n",
              "  <thead>\n",
              "    <tr style=\"text-align: right;\">\n",
              "      <th></th>\n",
              "      <th>count</th>\n",
              "    </tr>\n",
              "    <tr>\n",
              "      <th>presenca_matematica</th>\n",
              "      <th></th>\n",
              "    </tr>\n",
              "  </thead>\n",
              "  <tbody>\n",
              "  </tbody>\n",
              "</table>\n",
              "</div><br><label><b>dtype:</b> int64</label>"
            ],
            "text/plain": [
              "Series([], Name: count, dtype: int64)"
            ]
          },
          "execution_count": 24,
          "metadata": {},
          "output_type": "execute_result"
        }
      ],
      "source": [
        "#Participantes presentes\n",
        "# Filtra apenas os participantes que estiveram presentes em todas as provas\n",
        "presentes = df[\n",
        "    (df['presenca_natureza'] == 'Presente') &\n",
        "    (df['presenca_humanas'] == 'Presente') &\n",
        "    (df['presenca_matematica'] == 'Presente') &\n",
        "    (df['presenca_linguagens'] == 'Presente')\n",
        "]\n",
        "\n",
        "df['presenca_matematica'].value_counts()"
      ]
    },
    {
      "cell_type": "code",
      "execution_count": null,
      "metadata": {
        "colab": {
          "base_uri": "https://localhost:8080/",
          "height": 304
        },
        "id": "a2banl-3NKpG",
        "outputId": "35f7a421-1a9a-495b-a89b-abccb59962d9"
      },
      "outputs": [
        {
          "ename": "KeyError",
          "evalue": "\"['nota_lingugens'] not in index\"",
          "output_type": "error",
          "traceback": [
            "\u001b[0;31m---------------------------------------------------------------------------\u001b[0m",
            "\u001b[0;31mKeyError\u001b[0m                                  Traceback (most recent call last)",
            "\u001b[0;32m/tmp/ipython-input-28-4198213124.py\u001b[0m in \u001b[0;36m<cell line: 0>\u001b[0;34m()\u001b[0m\n\u001b[1;32m      1\u001b[0m \u001b[0;31m#Média, mediana, desvio padrão das notas\u001b[0m\u001b[0;34m\u001b[0m\u001b[0;34m\u001b[0m\u001b[0m\n\u001b[0;32m----> 2\u001b[0;31m \u001b[0mpresentes\u001b[0m\u001b[0;34m[\u001b[0m\u001b[0;34m[\u001b[0m\u001b[0;34m'nota_natureza'\u001b[0m\u001b[0;34m,\u001b[0m \u001b[0;34m'nota_humanas'\u001b[0m\u001b[0;34m,\u001b[0m \u001b[0;34m'nota_lingugens'\u001b[0m\u001b[0;34m,\u001b[0m \u001b[0;34m'nota_matematica'\u001b[0m\u001b[0;34m,\u001b[0m \u001b[0;34m'nota_redacao'\u001b[0m\u001b[0;34m]\u001b[0m\u001b[0;34m]\u001b[0m\u001b[0;34m.\u001b[0m\u001b[0mdescribe\u001b[0m\u001b[0;34m(\u001b[0m\u001b[0;34m)\u001b[0m\u001b[0;34m\u001b[0m\u001b[0;34m\u001b[0m\u001b[0m\n\u001b[0m",
            "\u001b[0;32m/usr/local/lib/python3.11/dist-packages/pandas/core/frame.py\u001b[0m in \u001b[0;36m__getitem__\u001b[0;34m(self, key)\u001b[0m\n\u001b[1;32m   4106\u001b[0m             \u001b[0;32mif\u001b[0m \u001b[0mis_iterator\u001b[0m\u001b[0;34m(\u001b[0m\u001b[0mkey\u001b[0m\u001b[0;34m)\u001b[0m\u001b[0;34m:\u001b[0m\u001b[0;34m\u001b[0m\u001b[0;34m\u001b[0m\u001b[0m\n\u001b[1;32m   4107\u001b[0m                 \u001b[0mkey\u001b[0m \u001b[0;34m=\u001b[0m \u001b[0mlist\u001b[0m\u001b[0;34m(\u001b[0m\u001b[0mkey\u001b[0m\u001b[0;34m)\u001b[0m\u001b[0;34m\u001b[0m\u001b[0;34m\u001b[0m\u001b[0m\n\u001b[0;32m-> 4108\u001b[0;31m             \u001b[0mindexer\u001b[0m \u001b[0;34m=\u001b[0m \u001b[0mself\u001b[0m\u001b[0;34m.\u001b[0m\u001b[0mcolumns\u001b[0m\u001b[0;34m.\u001b[0m\u001b[0m_get_indexer_strict\u001b[0m\u001b[0;34m(\u001b[0m\u001b[0mkey\u001b[0m\u001b[0;34m,\u001b[0m \u001b[0;34m\"columns\"\u001b[0m\u001b[0;34m)\u001b[0m\u001b[0;34m[\u001b[0m\u001b[0;36m1\u001b[0m\u001b[0;34m]\u001b[0m\u001b[0;34m\u001b[0m\u001b[0;34m\u001b[0m\u001b[0m\n\u001b[0m\u001b[1;32m   4109\u001b[0m \u001b[0;34m\u001b[0m\u001b[0m\n\u001b[1;32m   4110\u001b[0m         \u001b[0;31m# take() does not accept boolean indexers\u001b[0m\u001b[0;34m\u001b[0m\u001b[0;34m\u001b[0m\u001b[0m\n",
            "\u001b[0;32m/usr/local/lib/python3.11/dist-packages/pandas/core/indexes/base.py\u001b[0m in \u001b[0;36m_get_indexer_strict\u001b[0;34m(self, key, axis_name)\u001b[0m\n\u001b[1;32m   6198\u001b[0m             \u001b[0mkeyarr\u001b[0m\u001b[0;34m,\u001b[0m \u001b[0mindexer\u001b[0m\u001b[0;34m,\u001b[0m \u001b[0mnew_indexer\u001b[0m \u001b[0;34m=\u001b[0m \u001b[0mself\u001b[0m\u001b[0;34m.\u001b[0m\u001b[0m_reindex_non_unique\u001b[0m\u001b[0;34m(\u001b[0m\u001b[0mkeyarr\u001b[0m\u001b[0;34m)\u001b[0m\u001b[0;34m\u001b[0m\u001b[0;34m\u001b[0m\u001b[0m\n\u001b[1;32m   6199\u001b[0m \u001b[0;34m\u001b[0m\u001b[0m\n\u001b[0;32m-> 6200\u001b[0;31m         \u001b[0mself\u001b[0m\u001b[0;34m.\u001b[0m\u001b[0m_raise_if_missing\u001b[0m\u001b[0;34m(\u001b[0m\u001b[0mkeyarr\u001b[0m\u001b[0;34m,\u001b[0m \u001b[0mindexer\u001b[0m\u001b[0;34m,\u001b[0m \u001b[0maxis_name\u001b[0m\u001b[0;34m)\u001b[0m\u001b[0;34m\u001b[0m\u001b[0;34m\u001b[0m\u001b[0m\n\u001b[0m\u001b[1;32m   6201\u001b[0m \u001b[0;34m\u001b[0m\u001b[0m\n\u001b[1;32m   6202\u001b[0m         \u001b[0mkeyarr\u001b[0m \u001b[0;34m=\u001b[0m \u001b[0mself\u001b[0m\u001b[0;34m.\u001b[0m\u001b[0mtake\u001b[0m\u001b[0;34m(\u001b[0m\u001b[0mindexer\u001b[0m\u001b[0;34m)\u001b[0m\u001b[0;34m\u001b[0m\u001b[0;34m\u001b[0m\u001b[0m\n",
            "\u001b[0;32m/usr/local/lib/python3.11/dist-packages/pandas/core/indexes/base.py\u001b[0m in \u001b[0;36m_raise_if_missing\u001b[0;34m(self, key, indexer, axis_name)\u001b[0m\n\u001b[1;32m   6250\u001b[0m \u001b[0;34m\u001b[0m\u001b[0m\n\u001b[1;32m   6251\u001b[0m             \u001b[0mnot_found\u001b[0m \u001b[0;34m=\u001b[0m \u001b[0mlist\u001b[0m\u001b[0;34m(\u001b[0m\u001b[0mensure_index\u001b[0m\u001b[0;34m(\u001b[0m\u001b[0mkey\u001b[0m\u001b[0;34m)\u001b[0m\u001b[0;34m[\u001b[0m\u001b[0mmissing_mask\u001b[0m\u001b[0;34m.\u001b[0m\u001b[0mnonzero\u001b[0m\u001b[0;34m(\u001b[0m\u001b[0;34m)\u001b[0m\u001b[0;34m[\u001b[0m\u001b[0;36m0\u001b[0m\u001b[0;34m]\u001b[0m\u001b[0;34m]\u001b[0m\u001b[0;34m.\u001b[0m\u001b[0munique\u001b[0m\u001b[0;34m(\u001b[0m\u001b[0;34m)\u001b[0m\u001b[0;34m)\u001b[0m\u001b[0;34m\u001b[0m\u001b[0;34m\u001b[0m\u001b[0m\n\u001b[0;32m-> 6252\u001b[0;31m             \u001b[0;32mraise\u001b[0m \u001b[0mKeyError\u001b[0m\u001b[0;34m(\u001b[0m\u001b[0;34mf\"{not_found} not in index\"\u001b[0m\u001b[0;34m)\u001b[0m\u001b[0;34m\u001b[0m\u001b[0;34m\u001b[0m\u001b[0m\n\u001b[0m\u001b[1;32m   6253\u001b[0m \u001b[0;34m\u001b[0m\u001b[0m\n\u001b[1;32m   6254\u001b[0m     \u001b[0;34m@\u001b[0m\u001b[0moverload\u001b[0m\u001b[0;34m\u001b[0m\u001b[0;34m\u001b[0m\u001b[0m\n",
            "\u001b[0;31mKeyError\u001b[0m: \"['nota_lingugens'] not in index\""
          ]
        }
      ],
      "source": [
        "#Média, mediana, desvio padrão das notas\n",
        "presentes[['nota_natureza', 'nota_humanas', 'nota_lingugens', 'nota_matematica', 'nota_redacao']].describe()"
      ]
    },
    {
      "cell_type": "code",
      "execution_count": null,
      "metadata": {
        "id": "Uo4F4oIC5jlF"
      },
      "outputs": [],
      "source": [
        "#Média por sexo\n",
        "medias_por_sexo = presentes.groupby('sexo')[\n",
        "    ['nota_natureza', 'nota_humanas', 'nota_linguagens', 'nota_matematica', 'nota_redacao']\n",
        "].mean()"
      ]
    },
    {
      "cell_type": "code",
      "execution_count": null,
      "metadata": {
        "colab": {
          "base_uri": "https://localhost:8080/",
          "height": 300
        },
        "id": "L1b6_mbVNOVd",
        "outputId": "51016abb-45c9-4fff-95dd-05f2f3ff7d8a"
      },
      "outputs": [
        {
          "data": {
            "application/vnd.google.colaboratory.intrinsic+json": {
              "summary": "{\n  \"name\": \"presentes[['nota_natureza', 'nota_humanas', 'nota_linguagens', 'nota_matematica', 'nota_redacao']]\",\n  \"rows\": 8,\n  \"fields\": [\n    {\n      \"column\": \"nota_natureza\",\n      \"properties\": {\n        \"dtype\": \"number\",\n        \"std\": 287737.25312375586,\n        \"min\": 0.0,\n        \"max\": 814260.0,\n        \"num_unique_values\": 8,\n        \"samples\": [\n          491.76477243140994,\n          487.7,\n          814260.0\n        ],\n        \"semantic_type\": \"\",\n        \"description\": \"\"\n      }\n    },\n    {\n      \"column\": \"nota_humanas\",\n      \"properties\": {\n        \"dtype\": \"number\",\n        \"std\": 287732.0680845484,\n        \"min\": 0.0,\n        \"max\": 814260.0,\n        \"num_unique_values\": 8,\n        \"samples\": [\n          524.9702970795568,\n          530.4,\n          814260.0\n        ],\n        \"semantic_type\": \"\",\n        \"description\": \"\"\n      }\n    },\n    {\n      \"column\": \"nota_linguagens\",\n      \"properties\": {\n        \"dtype\": \"number\",\n        \"std\": 287735.13080699166,\n        \"min\": 0.0,\n        \"max\": 814260.0,\n        \"num_unique_values\": 8,\n        \"samples\": [\n          518.8198209417139,\n          522.5,\n          814260.0\n        ],\n        \"semantic_type\": \"\",\n        \"description\": \"\"\n      }\n    },\n    {\n      \"column\": \"nota_matematica\",\n      \"properties\": {\n        \"dtype\": \"number\",\n        \"std\": 287724.4464663815,\n        \"min\": 0.0,\n        \"max\": 814260.0,\n        \"num_unique_values\": 8,\n        \"samples\": [\n          526.2047048854175,\n          512.4,\n          814260.0\n        ],\n        \"semantic_type\": \"\",\n        \"description\": \"\"\n      }\n    },\n    {\n      \"column\": \"nota_redacao\",\n      \"properties\": {\n        \"dtype\": \"number\",\n        \"std\": 287692.19733447465,\n        \"min\": 0.0,\n        \"max\": 814260.0,\n        \"num_unique_values\": 8,\n        \"samples\": [\n          640.9034215115565,\n          640.0,\n          814260.0\n        ],\n        \"semantic_type\": \"\",\n        \"description\": \"\"\n      }\n    }\n  ]\n}",
              "type": "dataframe"
            },
            "text/html": [
              "\n",
              "  <div id=\"df-2a92ec48-a956-4a6a-9fba-44ed14fb9a2a\" class=\"colab-df-container\">\n",
              "    <div>\n",
              "<style scoped>\n",
              "    .dataframe tbody tr th:only-of-type {\n",
              "        vertical-align: middle;\n",
              "    }\n",
              "\n",
              "    .dataframe tbody tr th {\n",
              "        vertical-align: top;\n",
              "    }\n",
              "\n",
              "    .dataframe thead th {\n",
              "        text-align: right;\n",
              "    }\n",
              "</style>\n",
              "<table border=\"1\" class=\"dataframe\">\n",
              "  <thead>\n",
              "    <tr style=\"text-align: right;\">\n",
              "      <th></th>\n",
              "      <th>nota_natureza</th>\n",
              "      <th>nota_humanas</th>\n",
              "      <th>nota_linguagens</th>\n",
              "      <th>nota_matematica</th>\n",
              "      <th>nota_redacao</th>\n",
              "    </tr>\n",
              "  </thead>\n",
              "  <tbody>\n",
              "    <tr>\n",
              "      <th>count</th>\n",
              "      <td>814260.000000</td>\n",
              "      <td>814260.000000</td>\n",
              "      <td>814260.000000</td>\n",
              "      <td>814260.000000</td>\n",
              "      <td>814260.000000</td>\n",
              "    </tr>\n",
              "    <tr>\n",
              "      <th>mean</th>\n",
              "      <td>491.764772</td>\n",
              "      <td>524.970297</td>\n",
              "      <td>518.819821</td>\n",
              "      <td>526.204705</td>\n",
              "      <td>640.903422</td>\n",
              "    </tr>\n",
              "    <tr>\n",
              "      <th>std</th>\n",
              "      <td>85.704484</td>\n",
              "      <td>85.198132</td>\n",
              "      <td>73.133931</td>\n",
              "      <td>128.556116</td>\n",
              "      <td>207.644432</td>\n",
              "    </tr>\n",
              "    <tr>\n",
              "      <th>min</th>\n",
              "      <td>0.000000</td>\n",
              "      <td>0.000000</td>\n",
              "      <td>0.000000</td>\n",
              "      <td>0.000000</td>\n",
              "      <td>0.000000</td>\n",
              "    </tr>\n",
              "    <tr>\n",
              "      <th>25%</th>\n",
              "      <td>437.100000</td>\n",
              "      <td>470.700000</td>\n",
              "      <td>472.600000</td>\n",
              "      <td>426.300000</td>\n",
              "      <td>520.000000</td>\n",
              "    </tr>\n",
              "    <tr>\n",
              "      <th>50%</th>\n",
              "      <td>487.700000</td>\n",
              "      <td>530.400000</td>\n",
              "      <td>522.500000</td>\n",
              "      <td>512.400000</td>\n",
              "      <td>640.000000</td>\n",
              "    </tr>\n",
              "    <tr>\n",
              "      <th>75%</th>\n",
              "      <td>544.900000</td>\n",
              "      <td>583.900000</td>\n",
              "      <td>569.300000</td>\n",
              "      <td>617.500000</td>\n",
              "      <td>800.000000</td>\n",
              "    </tr>\n",
              "    <tr>\n",
              "      <th>max</th>\n",
              "      <td>868.400000</td>\n",
              "      <td>823.000000</td>\n",
              "      <td>801.100000</td>\n",
              "      <td>958.600000</td>\n",
              "      <td>1000.000000</td>\n",
              "    </tr>\n",
              "  </tbody>\n",
              "</table>\n",
              "</div>\n",
              "    <div class=\"colab-df-buttons\">\n",
              "\n",
              "  <div class=\"colab-df-container\">\n",
              "    <button class=\"colab-df-convert\" onclick=\"convertToInteractive('df-2a92ec48-a956-4a6a-9fba-44ed14fb9a2a')\"\n",
              "            title=\"Convert this dataframe to an interactive table.\"\n",
              "            style=\"display:none;\">\n",
              "\n",
              "  <svg xmlns=\"http://www.w3.org/2000/svg\" height=\"24px\" viewBox=\"0 -960 960 960\">\n",
              "    <path d=\"M120-120v-720h720v720H120Zm60-500h600v-160H180v160Zm220 220h160v-160H400v160Zm0 220h160v-160H400v160ZM180-400h160v-160H180v160Zm440 0h160v-160H620v160ZM180-180h160v-160H180v160Zm440 0h160v-160H620v160Z\"/>\n",
              "  </svg>\n",
              "    </button>\n",
              "\n",
              "  <style>\n",
              "    .colab-df-container {\n",
              "      display:flex;\n",
              "      gap: 12px;\n",
              "    }\n",
              "\n",
              "    .colab-df-convert {\n",
              "      background-color: #E8F0FE;\n",
              "      border: none;\n",
              "      border-radius: 50%;\n",
              "      cursor: pointer;\n",
              "      display: none;\n",
              "      fill: #1967D2;\n",
              "      height: 32px;\n",
              "      padding: 0 0 0 0;\n",
              "      width: 32px;\n",
              "    }\n",
              "\n",
              "    .colab-df-convert:hover {\n",
              "      background-color: #E2EBFA;\n",
              "      box-shadow: 0px 1px 2px rgba(60, 64, 67, 0.3), 0px 1px 3px 1px rgba(60, 64, 67, 0.15);\n",
              "      fill: #174EA6;\n",
              "    }\n",
              "\n",
              "    .colab-df-buttons div {\n",
              "      margin-bottom: 4px;\n",
              "    }\n",
              "\n",
              "    [theme=dark] .colab-df-convert {\n",
              "      background-color: #3B4455;\n",
              "      fill: #D2E3FC;\n",
              "    }\n",
              "\n",
              "    [theme=dark] .colab-df-convert:hover {\n",
              "      background-color: #434B5C;\n",
              "      box-shadow: 0px 1px 3px 1px rgba(0, 0, 0, 0.15);\n",
              "      filter: drop-shadow(0px 1px 2px rgba(0, 0, 0, 0.3));\n",
              "      fill: #FFFFFF;\n",
              "    }\n",
              "  </style>\n",
              "\n",
              "    <script>\n",
              "      const buttonEl =\n",
              "        document.querySelector('#df-2a92ec48-a956-4a6a-9fba-44ed14fb9a2a button.colab-df-convert');\n",
              "      buttonEl.style.display =\n",
              "        google.colab.kernel.accessAllowed ? 'block' : 'none';\n",
              "\n",
              "      async function convertToInteractive(key) {\n",
              "        const element = document.querySelector('#df-2a92ec48-a956-4a6a-9fba-44ed14fb9a2a');\n",
              "        const dataTable =\n",
              "          await google.colab.kernel.invokeFunction('convertToInteractive',\n",
              "                                                    [key], {});\n",
              "        if (!dataTable) return;\n",
              "\n",
              "        const docLinkHtml = 'Like what you see? Visit the ' +\n",
              "          '<a target=\"_blank\" href=https://colab.research.google.com/notebooks/data_table.ipynb>data table notebook</a>'\n",
              "          + ' to learn more about interactive tables.';\n",
              "        element.innerHTML = '';\n",
              "        dataTable['output_type'] = 'display_data';\n",
              "        await google.colab.output.renderOutput(dataTable, element);\n",
              "        const docLink = document.createElement('div');\n",
              "        docLink.innerHTML = docLinkHtml;\n",
              "        element.appendChild(docLink);\n",
              "      }\n",
              "    </script>\n",
              "  </div>\n",
              "\n",
              "\n",
              "    <div id=\"df-9bdb5235-ce98-438b-bd04-60154273eb1f\">\n",
              "      <button class=\"colab-df-quickchart\" onclick=\"quickchart('df-9bdb5235-ce98-438b-bd04-60154273eb1f')\"\n",
              "                title=\"Suggest charts\"\n",
              "                style=\"display:none;\">\n",
              "\n",
              "<svg xmlns=\"http://www.w3.org/2000/svg\" height=\"24px\"viewBox=\"0 0 24 24\"\n",
              "     width=\"24px\">\n",
              "    <g>\n",
              "        <path d=\"M19 3H5c-1.1 0-2 .9-2 2v14c0 1.1.9 2 2 2h14c1.1 0 2-.9 2-2V5c0-1.1-.9-2-2-2zM9 17H7v-7h2v7zm4 0h-2V7h2v10zm4 0h-2v-4h2v4z\"/>\n",
              "    </g>\n",
              "</svg>\n",
              "      </button>\n",
              "\n",
              "<style>\n",
              "  .colab-df-quickchart {\n",
              "      --bg-color: #E8F0FE;\n",
              "      --fill-color: #1967D2;\n",
              "      --hover-bg-color: #E2EBFA;\n",
              "      --hover-fill-color: #174EA6;\n",
              "      --disabled-fill-color: #AAA;\n",
              "      --disabled-bg-color: #DDD;\n",
              "  }\n",
              "\n",
              "  [theme=dark] .colab-df-quickchart {\n",
              "      --bg-color: #3B4455;\n",
              "      --fill-color: #D2E3FC;\n",
              "      --hover-bg-color: #434B5C;\n",
              "      --hover-fill-color: #FFFFFF;\n",
              "      --disabled-bg-color: #3B4455;\n",
              "      --disabled-fill-color: #666;\n",
              "  }\n",
              "\n",
              "  .colab-df-quickchart {\n",
              "    background-color: var(--bg-color);\n",
              "    border: none;\n",
              "    border-radius: 50%;\n",
              "    cursor: pointer;\n",
              "    display: none;\n",
              "    fill: var(--fill-color);\n",
              "    height: 32px;\n",
              "    padding: 0;\n",
              "    width: 32px;\n",
              "  }\n",
              "\n",
              "  .colab-df-quickchart:hover {\n",
              "    background-color: var(--hover-bg-color);\n",
              "    box-shadow: 0 1px 2px rgba(60, 64, 67, 0.3), 0 1px 3px 1px rgba(60, 64, 67, 0.15);\n",
              "    fill: var(--button-hover-fill-color);\n",
              "  }\n",
              "\n",
              "  .colab-df-quickchart-complete:disabled,\n",
              "  .colab-df-quickchart-complete:disabled:hover {\n",
              "    background-color: var(--disabled-bg-color);\n",
              "    fill: var(--disabled-fill-color);\n",
              "    box-shadow: none;\n",
              "  }\n",
              "\n",
              "  .colab-df-spinner {\n",
              "    border: 2px solid var(--fill-color);\n",
              "    border-color: transparent;\n",
              "    border-bottom-color: var(--fill-color);\n",
              "    animation:\n",
              "      spin 1s steps(1) infinite;\n",
              "  }\n",
              "\n",
              "  @keyframes spin {\n",
              "    0% {\n",
              "      border-color: transparent;\n",
              "      border-bottom-color: var(--fill-color);\n",
              "      border-left-color: var(--fill-color);\n",
              "    }\n",
              "    20% {\n",
              "      border-color: transparent;\n",
              "      border-left-color: var(--fill-color);\n",
              "      border-top-color: var(--fill-color);\n",
              "    }\n",
              "    30% {\n",
              "      border-color: transparent;\n",
              "      border-left-color: var(--fill-color);\n",
              "      border-top-color: var(--fill-color);\n",
              "      border-right-color: var(--fill-color);\n",
              "    }\n",
              "    40% {\n",
              "      border-color: transparent;\n",
              "      border-right-color: var(--fill-color);\n",
              "      border-top-color: var(--fill-color);\n",
              "    }\n",
              "    60% {\n",
              "      border-color: transparent;\n",
              "      border-right-color: var(--fill-color);\n",
              "    }\n",
              "    80% {\n",
              "      border-color: transparent;\n",
              "      border-right-color: var(--fill-color);\n",
              "      border-bottom-color: var(--fill-color);\n",
              "    }\n",
              "    90% {\n",
              "      border-color: transparent;\n",
              "      border-bottom-color: var(--fill-color);\n",
              "    }\n",
              "  }\n",
              "</style>\n",
              "\n",
              "      <script>\n",
              "        async function quickchart(key) {\n",
              "          const quickchartButtonEl =\n",
              "            document.querySelector('#' + key + ' button');\n",
              "          quickchartButtonEl.disabled = true;  // To prevent multiple clicks.\n",
              "          quickchartButtonEl.classList.add('colab-df-spinner');\n",
              "          try {\n",
              "            const charts = await google.colab.kernel.invokeFunction(\n",
              "                'suggestCharts', [key], {});\n",
              "          } catch (error) {\n",
              "            console.error('Error during call to suggestCharts:', error);\n",
              "          }\n",
              "          quickchartButtonEl.classList.remove('colab-df-spinner');\n",
              "          quickchartButtonEl.classList.add('colab-df-quickchart-complete');\n",
              "        }\n",
              "        (() => {\n",
              "          let quickchartButtonEl =\n",
              "            document.querySelector('#df-9bdb5235-ce98-438b-bd04-60154273eb1f button');\n",
              "          quickchartButtonEl.style.display =\n",
              "            google.colab.kernel.accessAllowed ? 'block' : 'none';\n",
              "        })();\n",
              "      </script>\n",
              "    </div>\n",
              "\n",
              "    </div>\n",
              "  </div>\n"
            ],
            "text/plain": [
              "       nota_natureza   nota_humanas  nota_linguagens  nota_matematica  \\\n",
              "count  814260.000000  814260.000000    814260.000000    814260.000000   \n",
              "mean      491.764772     524.970297       518.819821       526.204705   \n",
              "std        85.704484      85.198132        73.133931       128.556116   \n",
              "min         0.000000       0.000000         0.000000         0.000000   \n",
              "25%       437.100000     470.700000       472.600000       426.300000   \n",
              "50%       487.700000     530.400000       522.500000       512.400000   \n",
              "75%       544.900000     583.900000       569.300000       617.500000   \n",
              "max       868.400000     823.000000       801.100000       958.600000   \n",
              "\n",
              "        nota_redacao  \n",
              "count  814260.000000  \n",
              "mean      640.903422  \n",
              "std       207.644432  \n",
              "min         0.000000  \n",
              "25%       520.000000  \n",
              "50%       640.000000  \n",
              "75%       800.000000  \n",
              "max      1000.000000  "
            ]
          },
          "execution_count": 13,
          "metadata": {},
          "output_type": "execute_result"
        }
      ],
      "source": [
        "#Média, mediana, desvio padrão etc.\n",
        "presentes[['nota_natureza', 'nota_humanas', 'nota_linguagens', 'nota_matematica', 'nota_redacao']].describe()"
      ]
    },
    {
      "cell_type": "code",
      "execution_count": null,
      "metadata": {
        "colab": {
          "background_save": true
        },
        "id": "DWozAz_6KVac"
      },
      "outputs": [],
      "source": [
        "#Média geral das notas\n",
        "notas_mt = presentes['nota_matematica'].to_numpy()\n",
        "notas_ch = presentes['nota_humanas'].to_numpy()\n",
        "notas_lc = presentes['nota_linguagens'].to_numpy()\n",
        "notas_cn = presentes['nota_natureza'].to_numpy()\n",
        "\n",
        "\n",
        "notas_geral = notas_mt + notas_ch + notas_lc + notas_cn\n",
        "notas_geral = notas_geral / 4\n",
        "notas_geral.mean()\n"
      ]
    },
    {
      "cell_type": "code",
      "execution_count": null,
      "metadata": {
        "colab": {
          "base_uri": "https://localhost:8080/",
          "height": 472
        },
        "id": "VB5lLyEaN-AL",
        "outputId": "6c79e4e6-77ee-45e3-8b3e-32c0fd247c6b"
      },
      "outputs": [
        {
          "data": {
            "image/png": "[encoded data removed]",
            "text/plain": [
              "<Figure size 640x480 with 1 Axes>"
            ]
          },
          "metadata": {},
          "output_type": "display_data"
        }
      ],
      "source": [
        "#Histogramas das notas\n",
        "plt.hist(presentes['nota_matematica'], bins=30, color='skyblue')\n",
        "plt.title('Distribuição das notas de Matemática')\n",
        "plt.xlabel('Nota')\n",
        "plt.ylabel('Frequência')\n",
        "plt.show()"
      ]
    },
    {
      "cell_type": "code",
      "execution_count": null,
      "metadata": {
        "colab": {
          "base_uri": "https://localhost:8080/",
          "height": 495
        },
        "id": "smd-a4VuOEn2",
        "outputId": "f978faaa-a347-4066-bc94-d7b2cd68122c"
      },
      "outputs": [
        {
          "data": {
            "text/plain": [
              "<Axes: title={'center': 'nota_redacao'}, xlabel='sexo'>"
            ]
          },
          "execution_count": 16,
          "metadata": {},
          "output_type": "execute_result"
        },
        {
          "data": {
            "image/png": "[encoded data removed]",
            "text/plain": [
              "<Figure size 640x480 with 1 Axes>"
            ]
          },
          "metadata": {},
          "output_type": "display_data"
        }
      ],
      "source": [
        "#Boxplot da Redação por sexo\n",
        "presentes.boxplot(column='nota_redacao', by='sexo', grid=False)"
      ]
    },
    {
      "cell_type": "code",
      "execution_count": null,
      "metadata": {
        "colab": {
          "base_uri": "https://localhost:8080/",
          "height": 498
        },
        "id": "TGKM7IwCOJhY",
        "outputId": "f91f8e49-bed5-4a5d-fa06-a1a09036dfba"
      },
      "outputs": [
        {
          "data": {
            "text/plain": [
              "Text(0, 0.5, 'Total de Participantes')"
            ]
          },
          "execution_count": 18,
          "metadata": {},
          "output_type": "execute_result"
        },
        {
          "data": {
            "image/png": "[encoded data removed]",
            "text/plain": [
              "<Figure size 640x480 with 1 Axes>"
            ]
          },
          "metadata": {},
          "output_type": "display_data"
        }
      ],
      "source": [
        "#Gráfico de barras dos participantes por estado\n",
        "df['SG_UF_PROVA'].value_counts().sort_index().plot(kind='bar')\n",
        "plt.title('Número de participantes por estado')\n",
        "plt.xlabel('UF')\n",
        "plt.ylabel('Total de Participantes')"
      ]
    },
    {
      "cell_type": "code",
      "execution_count": null,
      "metadata": {
        "id": "g5xnNQNzOQKU"
      },
      "outputs": [],
      "source": [
        "#Média da nota de Matemática por estado\n",
        "presentes.groupby('SG_UF_PROVA')['nota_matematica'].mean().sort_values(ascending=False)"
      ]
    },
    {
      "cell_type": "code",
      "execution_count": null,
      "metadata": {
        "id": "Htme1KoVObI2"
      },
      "outputs": [],
      "source": [
        "#Média da nota de Humanas por tipo de escola\n",
        "presentes.groupby('TP_ESCOLA')['nota_humanas'].mean()"
      ]
    },
    {
      "cell_type": "code",
      "execution_count": null,
      "metadata": {
        "colab": {
          "base_uri": "https://localhost:8080/",
          "height": 614
        },
        "id": "c7iL_oiCOpyO",
        "outputId": "b52d0b80-12b4-43c9-801d-753f9ba78517"
      },
      "outputs": [
        {
          "data": {
            "application/vnd.google.colaboratory.intrinsic+json": {
              "summary": "{\n  \"name\": \"presentes\",\n  \"rows\": 17,\n  \"fields\": [\n    {\n      \"column\": \"faixa_renda_familiar\",\n      \"properties\": {\n        \"dtype\": \"string\",\n        \"num_unique_values\": 17,\n        \"samples\": [\n          \"A\",\n          \"B\",\n          \"F\"\n        ],\n        \"semantic_type\": \"\",\n        \"description\": \"\"\n      }\n    },\n    {\n      \"column\": \"nota_matematica\",\n      \"properties\": {\n        \"dtype\": \"number\",\n        \"std\": 76.11394991609185,\n        \"min\": 453.8551408908823,\n        \"max\": 706.0087873261909,\n        \"num_unique_values\": 17,\n        \"samples\": [\n          453.8551408908823,\n          478.7833347306059,\n          574.0978989510272\n        ],\n        \"semantic_type\": \"\",\n        \"description\": \"\"\n      }\n    },\n    {\n      \"column\": \"nota_humanas\",\n      \"properties\": {\n        \"dtype\": \"number\",\n        \"std\": 40.15223247453592,\n        \"min\": 479.82388982093335,\n        \"max\": 613.05145885571,\n        \"num_unique_values\": 17,\n        \"samples\": [\n          479.82388982093335,\n          497.3587818578135,\n          553.3578766060456\n        ],\n        \"semantic_type\": \"\",\n        \"description\": \"\"\n      }\n    },\n    {\n      \"column\": \"nota_linguagens\",\n      \"properties\": {\n        \"dtype\": \"number\",\n        \"std\": 34.42971023110243,\n        \"min\": 476.7984216112576,\n        \"max\": 592.8652154091635,\n        \"num_unique_values\": 17,\n        \"samples\": [\n          476.7984216112576,\n          494.70045481220654,\n          543.9502637949226\n        ],\n        \"semantic_type\": \"\",\n        \"description\": \"\"\n      }\n    },\n    {\n      \"column\": \"nota_natureza\",\n      \"properties\": {\n        \"dtype\": \"number\",\n        \"std\": 43.72725729117029,\n        \"min\": 452.06282911630774,\n        \"max\": 593.5030772737634,\n        \"num_unique_values\": 17,\n        \"samples\": [\n          452.06282911630774,\n          465.1335453694388,\n          516.8114518031159\n        ],\n        \"semantic_type\": \"\",\n        \"description\": \"\"\n      }\n    }\n  ]\n}",
              "type": "dataframe"
            },
            "text/html": [
              "\n",
              "  <div id=\"df-235b5f53-219c-4cdb-accb-24081ae0d45e\" class=\"colab-df-container\">\n",
              "    <div>\n",
              "<style scoped>\n",
              "    .dataframe tbody tr th:only-of-type {\n",
              "        vertical-align: middle;\n",
              "    }\n",
              "\n",
              "    .dataframe tbody tr th {\n",
              "        vertical-align: top;\n",
              "    }\n",
              "\n",
              "    .dataframe thead th {\n",
              "        text-align: right;\n",
              "    }\n",
              "</style>\n",
              "<table border=\"1\" class=\"dataframe\">\n",
              "  <thead>\n",
              "    <tr style=\"text-align: right;\">\n",
              "      <th></th>\n",
              "      <th>nota_matematica</th>\n",
              "      <th>nota_humanas</th>\n",
              "      <th>nota_linguagens</th>\n",
              "      <th>nota_natureza</th>\n",
              "    </tr>\n",
              "    <tr>\n",
              "      <th>faixa_renda_familiar</th>\n",
              "      <th></th>\n",
              "      <th></th>\n",
              "      <th></th>\n",
              "      <th></th>\n",
              "    </tr>\n",
              "  </thead>\n",
              "  <tbody>\n",
              "    <tr>\n",
              "      <th>A</th>\n",
              "      <td>453.855141</td>\n",
              "      <td>479.823890</td>\n",
              "      <td>476.798422</td>\n",
              "      <td>452.062829</td>\n",
              "    </tr>\n",
              "    <tr>\n",
              "      <th>B</th>\n",
              "      <td>478.783335</td>\n",
              "      <td>497.358782</td>\n",
              "      <td>494.700455</td>\n",
              "      <td>465.133545</td>\n",
              "    </tr>\n",
              "    <tr>\n",
              "      <th>C</th>\n",
              "      <td>513.243837</td>\n",
              "      <td>520.195981</td>\n",
              "      <td>515.588813</td>\n",
              "      <td>484.191932</td>\n",
              "    </tr>\n",
              "    <tr>\n",
              "      <th>D</th>\n",
              "      <td>533.520803</td>\n",
              "      <td>532.345298</td>\n",
              "      <td>526.310979</td>\n",
              "      <td>495.603216</td>\n",
              "    </tr>\n",
              "    <tr>\n",
              "      <th>E</th>\n",
              "      <td>553.347351</td>\n",
              "      <td>542.895578</td>\n",
              "      <td>535.836582</td>\n",
              "      <td>506.443119</td>\n",
              "    </tr>\n",
              "    <tr>\n",
              "      <th>F</th>\n",
              "      <td>574.097899</td>\n",
              "      <td>553.357877</td>\n",
              "      <td>543.950264</td>\n",
              "      <td>516.811452</td>\n",
              "    </tr>\n",
              "    <tr>\n",
              "      <th>G</th>\n",
              "      <td>591.391117</td>\n",
              "      <td>563.120980</td>\n",
              "      <td>551.903824</td>\n",
              "      <td>527.540172</td>\n",
              "    </tr>\n",
              "    <tr>\n",
              "      <th>H</th>\n",
              "      <td>611.163029</td>\n",
              "      <td>572.285445</td>\n",
              "      <td>559.635962</td>\n",
              "      <td>539.586811</td>\n",
              "    </tr>\n",
              "    <tr>\n",
              "      <th>I</th>\n",
              "      <td>624.304481</td>\n",
              "      <td>579.563027</td>\n",
              "      <td>565.430790</td>\n",
              "      <td>547.019873</td>\n",
              "    </tr>\n",
              "    <tr>\n",
              "      <th>J</th>\n",
              "      <td>636.079784</td>\n",
              "      <td>586.223846</td>\n",
              "      <td>571.014740</td>\n",
              "      <td>555.374013</td>\n",
              "    </tr>\n",
              "    <tr>\n",
              "      <th>K</th>\n",
              "      <td>647.571859</td>\n",
              "      <td>589.058766</td>\n",
              "      <td>573.263465</td>\n",
              "      <td>561.234251</td>\n",
              "    </tr>\n",
              "    <tr>\n",
              "      <th>L</th>\n",
              "      <td>652.808211</td>\n",
              "      <td>591.555719</td>\n",
              "      <td>575.565090</td>\n",
              "      <td>563.962085</td>\n",
              "    </tr>\n",
              "    <tr>\n",
              "      <th>M</th>\n",
              "      <td>664.799148</td>\n",
              "      <td>599.881047</td>\n",
              "      <td>581.866917</td>\n",
              "      <td>573.043855</td>\n",
              "    </tr>\n",
              "    <tr>\n",
              "      <th>N</th>\n",
              "      <td>669.780753</td>\n",
              "      <td>599.726596</td>\n",
              "      <td>582.290566</td>\n",
              "      <td>575.865803</td>\n",
              "    </tr>\n",
              "    <tr>\n",
              "      <th>O</th>\n",
              "      <td>679.665224</td>\n",
              "      <td>603.624252</td>\n",
              "      <td>585.627300</td>\n",
              "      <td>580.039974</td>\n",
              "    </tr>\n",
              "    <tr>\n",
              "      <th>P</th>\n",
              "      <td>691.930909</td>\n",
              "      <td>610.746800</td>\n",
              "      <td>591.938575</td>\n",
              "      <td>588.649743</td>\n",
              "    </tr>\n",
              "    <tr>\n",
              "      <th>Q</th>\n",
              "      <td>706.008787</td>\n",
              "      <td>613.051459</td>\n",
              "      <td>592.865215</td>\n",
              "      <td>593.503077</td>\n",
              "    </tr>\n",
              "  </tbody>\n",
              "</table>\n",
              "</div>\n",
              "    <div class=\"colab-df-buttons\">\n",
              "\n",
              "  <div class=\"colab-df-container\">\n",
              "    <button class=\"colab-df-convert\" onclick=\"convertToInteractive('df-235b5f53-219c-4cdb-accb-24081ae0d45e')\"\n",
              "            title=\"Convert this dataframe to an interactive table.\"\n",
              "            style=\"display:none;\">\n",
              "\n",
              "  <svg xmlns=\"http://www.w3.org/2000/svg\" height=\"24px\" viewBox=\"0 -960 960 960\">\n",
              "    <path d=\"M120-120v-720h720v720H120Zm60-500h600v-160H180v160Zm220 220h160v-160H400v160Zm0 220h160v-160H400v160ZM180-400h160v-160H180v160Zm440 0h160v-160H620v160ZM180-180h160v-160H180v160Zm440 0h160v-160H620v160Z\"/>\n",
              "  </svg>\n",
              "    </button>\n",
              "\n",
              "  <style>\n",
              "    .colab-df-container {\n",
              "      display:flex;\n",
              "      gap: 12px;\n",
              "    }\n",
              "\n",
              "    .colab-df-convert {\n",
              "      background-color: #E8F0FE;\n",
              "      border: none;\n",
              "      border-radius: 50%;\n",
              "      cursor: pointer;\n",
              "      display: none;\n",
              "      fill: #1967D2;\n",
              "      height: 32px;\n",
              "      padding: 0 0 0 0;\n",
              "      width: 32px;\n",
              "    }\n",
              "\n",
              "    .colab-df-convert:hover {\n",
              "      background-color: #E2EBFA;\n",
              "      box-shadow: 0px 1px 2px rgba(60, 64, 67, 0.3), 0px 1px 3px 1px rgba(60, 64, 67, 0.15);\n",
              "      fill: #174EA6;\n",
              "    }\n",
              "\n",
              "    .colab-df-buttons div {\n",
              "      margin-bottom: 4px;\n",
              "    }\n",
              "\n",
              "    [theme=dark] .colab-df-convert {\n",
              "      background-color: #3B4455;\n",
              "      fill: #D2E3FC;\n",
              "    }\n",
              "\n",
              "    [theme=dark] .colab-df-convert:hover {\n",
              "      background-color: #434B5C;\n",
              "      box-shadow: 0px 1px 3px 1px rgba(0, 0, 0, 0.15);\n",
              "      filter: drop-shadow(0px 1px 2px rgba(0, 0, 0, 0.3));\n",
              "      fill: #FFFFFF;\n",
              "    }\n",
              "  </style>\n",
              "\n",
              "    <script>\n",
              "      const buttonEl =\n",
              "        document.querySelector('#df-235b5f53-219c-4cdb-accb-24081ae0d45e button.colab-df-convert');\n",
              "      buttonEl.style.display =\n",
              "        google.colab.kernel.accessAllowed ? 'block' : 'none';\n",
              "\n",
              "      async function convertToInteractive(key) {\n",
              "        const element = document.querySelector('#df-235b5f53-219c-4cdb-accb-24081ae0d45e');\n",
              "        const dataTable =\n",
              "          await google.colab.kernel.invokeFunction('convertToInteractive',\n",
              "                                                    [key], {});\n",
              "        if (!dataTable) return;\n",
              "\n",
              "        const docLinkHtml = 'Like what you see? Visit the ' +\n",
              "          '<a target=\"_blank\" href=https://colab.research.google.com/notebooks/data_table.ipynb>data table notebook</a>'\n",
              "          + ' to learn more about interactive tables.';\n",
              "        element.innerHTML = '';\n",
              "        dataTable['output_type'] = 'display_data';\n",
              "        await google.colab.output.renderOutput(dataTable, element);\n",
              "        const docLink = document.createElement('div');\n",
              "        docLink.innerHTML = docLinkHtml;\n",
              "        element.appendChild(docLink);\n",
              "      }\n",
              "    </script>\n",
              "  </div>\n",
              "\n",
              "\n",
              "    <div id=\"df-820129b5-afc9-467a-a320-981f35eaa79e\">\n",
              "      <button class=\"colab-df-quickchart\" onclick=\"quickchart('df-820129b5-afc9-467a-a320-981f35eaa79e')\"\n",
              "                title=\"Suggest charts\"\n",
              "                style=\"display:none;\">\n",
              "\n",
              "<svg xmlns=\"http://www.w3.org/2000/svg\" height=\"24px\"viewBox=\"0 0 24 24\"\n",
              "     width=\"24px\">\n",
              "    <g>\n",
              "        <path d=\"M19 3H5c-1.1 0-2 .9-2 2v14c0 1.1.9 2 2 2h14c1.1 0 2-.9 2-2V5c0-1.1-.9-2-2-2zM9 17H7v-7h2v7zm4 0h-2V7h2v10zm4 0h-2v-4h2v4z\"/>\n",
              "    </g>\n",
              "</svg>\n",
              "      </button>\n",
              "\n",
              "<style>\n",
              "  .colab-df-quickchart {\n",
              "      --bg-color: #E8F0FE;\n",
              "      --fill-color: #1967D2;\n",
              "      --hover-bg-color: #E2EBFA;\n",
              "      --hover-fill-color: #174EA6;\n",
              "      --disabled-fill-color: #AAA;\n",
              "      --disabled-bg-color: #DDD;\n",
              "  }\n",
              "\n",
              "  [theme=dark] .colab-df-quickchart {\n",
              "      --bg-color: #3B4455;\n",
              "      --fill-color: #D2E3FC;\n",
              "      --hover-bg-color: #434B5C;\n",
              "      --hover-fill-color: #FFFFFF;\n",
              "      --disabled-bg-color: #3B4455;\n",
              "      --disabled-fill-color: #666;\n",
              "  }\n",
              "\n",
              "  .colab-df-quickchart {\n",
              "    background-color: var(--bg-color);\n",
              "    border: none;\n",
              "    border-radius: 50%;\n",
              "    cursor: pointer;\n",
              "    display: none;\n",
              "    fill: var(--fill-color);\n",
              "    height: 32px;\n",
              "    padding: 0;\n",
              "    width: 32px;\n",
              "  }\n",
              "\n",
              "  .colab-df-quickchart:hover {\n",
              "    background-color: var(--hover-bg-color);\n",
              "    box-shadow: 0 1px 2px rgba(60, 64, 67, 0.3), 0 1px 3px 1px rgba(60, 64, 67, 0.15);\n",
              "    fill: var(--button-hover-fill-color);\n",
              "  }\n",
              "\n",
              "  .colab-df-quickchart-complete:disabled,\n",
              "  .colab-df-quickchart-complete:disabled:hover {\n",
              "    background-color: var(--disabled-bg-color);\n",
              "    fill: var(--disabled-fill-color);\n",
              "    box-shadow: none;\n",
              "  }\n",
              "\n",
              "  .colab-df-spinner {\n",
              "    border: 2px solid var(--fill-color);\n",
              "    border-color: transparent;\n",
              "    border-bottom-color: var(--fill-color);\n",
              "    animation:\n",
              "      spin 1s steps(1) infinite;\n",
              "  }\n",
              "\n",
              "  @keyframes spin {\n",
              "    0% {\n",
              "      border-color: transparent;\n",
              "      border-bottom-color: var(--fill-color);\n",
              "      border-left-color: var(--fill-color);\n",
              "    }\n",
              "    20% {\n",
              "      border-color: transparent;\n",
              "      border-left-color: var(--fill-color);\n",
              "      border-top-color: var(--fill-color);\n",
              "    }\n",
              "    30% {\n",
              "      border-color: transparent;\n",
              "      border-left-color: var(--fill-color);\n",
              "      border-top-color: var(--fill-color);\n",
              "      border-right-color: var(--fill-color);\n",
              "    }\n",
              "    40% {\n",
              "      border-color: transparent;\n",
              "      border-right-color: var(--fill-color);\n",
              "      border-top-color: var(--fill-color);\n",
              "    }\n",
              "    60% {\n",
              "      border-color: transparent;\n",
              "      border-right-color: var(--fill-color);\n",
              "    }\n",
              "    80% {\n",
              "      border-color: transparent;\n",
              "      border-right-color: var(--fill-color);\n",
              "      border-bottom-color: var(--fill-color);\n",
              "    }\n",
              "    90% {\n",
              "      border-color: transparent;\n",
              "      border-bottom-color: var(--fill-color);\n",
              "    }\n",
              "  }\n",
              "</style>\n",
              "\n",
              "      <script>\n",
              "        async function quickchart(key) {\n",
              "          const quickchartButtonEl =\n",
              "            document.querySelector('#' + key + ' button');\n",
              "          quickchartButtonEl.disabled = true;  // To prevent multiple clicks.\n",
              "          quickchartButtonEl.classList.add('colab-df-spinner');\n",
              "          try {\n",
              "            const charts = await google.colab.kernel.invokeFunction(\n",
              "                'suggestCharts', [key], {});\n",
              "          } catch (error) {\n",
              "            console.error('Error during call to suggestCharts:', error);\n",
              "          }\n",
              "          quickchartButtonEl.classList.remove('colab-df-spinner');\n",
              "          quickchartButtonEl.classList.add('colab-df-quickchart-complete');\n",
              "        }\n",
              "        (() => {\n",
              "          let quickchartButtonEl =\n",
              "            document.querySelector('#df-820129b5-afc9-467a-a320-981f35eaa79e button');\n",
              "          quickchartButtonEl.style.display =\n",
              "            google.colab.kernel.accessAllowed ? 'block' : 'none';\n",
              "        })();\n",
              "      </script>\n",
              "    </div>\n",
              "\n",
              "    </div>\n",
              "  </div>\n"
            ],
            "text/plain": [
              "                      nota_matematica  nota_humanas  nota_linguagens  \\\n",
              "faixa_renda_familiar                                                   \n",
              "A                          453.855141    479.823890       476.798422   \n",
              "B                          478.783335    497.358782       494.700455   \n",
              "C                          513.243837    520.195981       515.588813   \n",
              "D                          533.520803    532.345298       526.310979   \n",
              "E                          553.347351    542.895578       535.836582   \n",
              "F                          574.097899    553.357877       543.950264   \n",
              "G                          591.391117    563.120980       551.903824   \n",
              "H                          611.163029    572.285445       559.635962   \n",
              "I                          624.304481    579.563027       565.430790   \n",
              "J                          636.079784    586.223846       571.014740   \n",
              "K                          647.571859    589.058766       573.263465   \n",
              "L                          652.808211    591.555719       575.565090   \n",
              "M                          664.799148    599.881047       581.866917   \n",
              "N                          669.780753    599.726596       582.290566   \n",
              "O                          679.665224    603.624252       585.627300   \n",
              "P                          691.930909    610.746800       591.938575   \n",
              "Q                          706.008787    613.051459       592.865215   \n",
              "\n",
              "                      nota_natureza  \n",
              "faixa_renda_familiar                 \n",
              "A                        452.062829  \n",
              "B                        465.133545  \n",
              "C                        484.191932  \n",
              "D                        495.603216  \n",
              "E                        506.443119  \n",
              "F                        516.811452  \n",
              "G                        527.540172  \n",
              "H                        539.586811  \n",
              "I                        547.019873  \n",
              "J                        555.374013  \n",
              "K                        561.234251  \n",
              "L                        563.962085  \n",
              "M                        573.043855  \n",
              "N                        575.865803  \n",
              "O                        580.039974  \n",
              "P                        588.649743  \n",
              "Q                        593.503077  "
            ]
          },
          "execution_count": 22,
          "metadata": {},
          "output_type": "execute_result"
        }
      ],
      "source": [
        "#Nota média por faixa de renda\n",
        "presentes.groupby('faixa_renda_familiar')[['nota_matematica', 'nota_humanas', 'nota_linguagens', 'nota_natureza']].mean()"
      ]
    },
    {
      "cell_type": "code",
      "execution_count": 1,
      "metadata": {
        "colab": {
          "base_uri": "https://localhost:8080/",
          "height": 211
        },
        "id": "-bDuNG2u5qRp",
        "outputId": "96764a97-8f1e-4112-d767-7dcd0edfec9f"
      },
      "outputs": [
        {
          "output_type": "error",
          "ename": "NameError",
          "evalue": "name 'medias_por_sexo_renomeado' is not defined",
          "traceback": [
            "\u001b[0;31m---------------------------------------------------------------------------\u001b[0m",
            "\u001b[0;31mNameError\u001b[0m                                 Traceback (most recent call last)",
            "\u001b[0;32m/tmp/ipython-input-1-4149582419.py\u001b[0m in \u001b[0;36m<cell line: 0>\u001b[0;34m()\u001b[0m\n\u001b[1;32m      1\u001b[0m \u001b[0;31m#Gráfico média por sexo\u001b[0m\u001b[0;34m\u001b[0m\u001b[0;34m\u001b[0m\u001b[0m\n\u001b[0;32m----> 2\u001b[0;31m ax = medias_por_sexo_renomeado.T.plot(\n\u001b[0m\u001b[1;32m      3\u001b[0m     \u001b[0mkind\u001b[0m\u001b[0;34m=\u001b[0m\u001b[0;34m'bar'\u001b[0m\u001b[0;34m,\u001b[0m\u001b[0;34m\u001b[0m\u001b[0;34m\u001b[0m\u001b[0m\n\u001b[1;32m      4\u001b[0m     \u001b[0mfigsize\u001b[0m\u001b[0;34m=\u001b[0m\u001b[0;34m(\u001b[0m\u001b[0;36m10\u001b[0m\u001b[0;34m,\u001b[0m \u001b[0;36m6\u001b[0m\u001b[0;34m)\u001b[0m\u001b[0;34m,\u001b[0m\u001b[0;34m\u001b[0m\u001b[0;34m\u001b[0m\u001b[0m\n\u001b[1;32m      5\u001b[0m     \u001b[0mcolor\u001b[0m\u001b[0;34m=\u001b[0m\u001b[0;34m[\u001b[0m\u001b[0;34m'blue'\u001b[0m\u001b[0;34m,\u001b[0m \u001b[0;34m'deeppink'\u001b[0m\u001b[0;34m]\u001b[0m\u001b[0;34m\u001b[0m\u001b[0;34m\u001b[0m\u001b[0m\n",
            "\u001b[0;31mNameError\u001b[0m: name 'medias_por_sexo_renomeado' is not defined"
          ]
        }
      ],
      "source": [
        "#Gráfico média por sexo\n",
        "ax = medias_por_sexo_renomeado.T.plot(\n",
        "    kind='bar',\n",
        "    figsize=(10, 6),\n",
        "    color=['blue', 'deeppink']\n",
        ")\n",
        "plt.title('Média das Notas por Área e Sexo')\n",
        "plt.xlabel('Área do Conhecimento')\n",
        "plt.ylabel('Nota Média')\n",
        "plt.xticks(rotation=0)\n",
        "plt.legend(['Masculino', 'Feminino'], title='Sexo')\n",
        "plt.grid(axis='y', linestyle='--', alpha=0.7)\n",
        "plt.tight_layout()\n",
        "plt.show()"
      ]
    },
    {
      "cell_type": "code",
      "execution_count": null,
      "metadata": {
        "id": "c479y6o85W7Z"
      },
      "outputs": [],
      "source": []
    },
    {
      "cell_type": "markdown",
      "metadata": {
        "id": "kSiLOAS9Jdpt"
      },
      "source": [
        "###Funções Auxiliares"
      ]
    }
  ],
  "metadata": {
    "colab": {
      "provenance": []
    },
    "kernelspec": {
      "display_name": "Python 3",
      "name": "python3"
    },
    "language_info": {
      "name": "python"
    }
  },
  "nbformat": 4,
  "nbformat_minor": 0
}