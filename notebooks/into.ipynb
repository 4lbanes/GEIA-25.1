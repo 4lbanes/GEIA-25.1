{
 "cells": [
  {
   "cell_type": "markdown",
   "metadata": {},
   "source": [
    "# O que é Jupyter Notebook?"
   ]
  },
  {
   "cell_type": "markdown",
   "metadata": {},
   "source": [
    "## O Jupyter Notebook é uma aplicação web interativa que permite criar e compartilhar documentos que contêm código ativo, equações, visualizações e texto explicativo.\n",
    "## É amplamente utilizado para ciência de dados, aprendizado de máquina, análise estatística e muito mais."
   ]
  },
  {
   "cell_type": "markdown",
   "metadata": {},
   "source": [
    "## 1. Instalando o Jupyter Notebook\n",
    "\n",
    "### Se você ainda não tem o Jupyter Notebook instalado, pode instalá-lo utilizando o pip:\n",
    "### Abra o terminal ou prompt de comando e execute:"
   ]
  },
  {
   "cell_type": "markdown",
   "metadata": {},
   "source": [
    "<code>!pip install notebook</code>"
   ]
  },
  {
   "cell_type": "markdown",
   "metadata": {},
   "source": [
    "## 2. Iniciando o Jupyter Notebook"
   ]
  },
  {
   "cell_type": "markdown",
   "metadata": {},
   "source": [
    "### Para iniciar o Jupyter Notebook, digite o seguinte comando no terminal ou prompt de comando:"
   ]
  },
  {
   "cell_type": "markdown",
   "metadata": {},
   "source": [
    "<code>!jupyter notebook</code>"
   ]
  },
  {
   "cell_type": "markdown",
   "metadata": {},
   "source": [
    "### Isso abrirá o Jupyter Notebook no seu navegador padrão."
   ]
  },
  {
   "cell_type": "markdown",
   "metadata": {},
   "source": [
    "## 3. Criando um Novo Notebook"
   ]
  },
  {
   "cell_type": "markdown",
   "metadata": {},
   "source": [
    "### Quando o Jupyter Notebook abrir, você verá a interface principal.\n",
    "### Para criar um novo notebook:\n",
    "### - Clique no botão \"New\"\n",
    "### - Selecione \"Python 3\" (ou a versão correspondente ao seu ambiente)"
   ]
  },
  {
   "cell_type": "markdown",
   "metadata": {},
   "source": [
    "## 4. Estrutura de um Notebook"
   ]
  },
  {
   "cell_type": "markdown",
   "metadata": {},
   "source": [
    "### Um notebook é composto por células. Existem dois tipos principais:\n",
    "### - **Células de Código**: Onde você pode escrever e executar código Python.\n",
    "### - **Células de Texto (Markdown)**: Onde você pode escrever anotações e explicações usando Markdown."
   ]
  },
  {
   "cell_type": "markdown",
   "metadata": {},
   "source": [
    "## 5. Executando Códigos no Notebook"
   ]
  },
  {
   "cell_type": "markdown",
   "metadata": {},
   "source": [
    "### Para executar uma célula de código, pressione `Shift + Enter` ou clique no botão \"Run\"."
   ]
  },
  {
   "cell_type": "code",
   "execution_count": 1,
   "metadata": {},
   "outputs": [
    {
     "name": "stdout",
     "output_type": "stream",
     "text": [
      "Olá, Jupyter Notebook!\n"
     ]
    }
   ],
   "source": [
    "print(\"Olá, Jupyter Notebook!\")"
   ]
  },
  {
   "cell_type": "markdown",
   "metadata": {},
   "source": [
    "## 6. Usando Markdown para Formatação de Texto"
   ]
  },
  {
   "cell_type": "markdown",
   "metadata": {},
   "source": [
    "### Você pode escrever células de texto formatadas utilizando Markdown.\n",
    "### Para transformar uma célula de código em Markdown, clique na célula e selecione \"Markdown\" no menu superior.\n",
    "### Exemplos:\n",
    "\n",
    "#### - `# Título Grande`\n",
    "#### - `## Título Menor`\n",
    "#### - `**Negrito**`\n",
    "#### - `*Itálico*`\n",
    "#### - `- Lista de itens`"
   ]
  },
  {
   "cell_type": "markdown",
   "metadata": {},
   "source": [
    "## 7. Adicionando e Excluindo Células\n",
    "\n",
    "### Para adicionar uma nova célula:\n",
    "### - Pressione `B` (abaixo da célula selecionada) ou `A` (acima da célula selecionada)\n",
    "\n",
    "#### Para excluir uma célula:\n",
    "#### - Pressione `D` duas vezes (`DD`)\n"
   ]
  },
  {
   "cell_type": "markdown",
   "metadata": {},
   "source": [
    "## 8. Salvando e Exportando\n",
    "\n",
    "### Para salvar o notebook, clique em \"File\" > \"Save and Checkpoint\".\n",
    "### Você também pode exportar o notebook para outros formatos, como PDF ou HTML, indo em \"File\" > \"Download as\"."
   ]
  },
  {
   "cell_type": "markdown",
   "metadata": {},
   "source": [
    "## 9. Finalizando o Jupyter Notebook\n",
    "\n",
    "### Para encerrar o Jupyter Notebook, volte ao terminal onde ele está rodando e pressione `Ctrl + C`.\n",
    "### Confirme a saída digitando \"y\" quando solicitado."
   ]
  },
  {
   "cell_type": "markdown",
   "metadata": {},
   "source": [
    "## 10. Conclusão\n",
    "\n",
    "### Agora você já sabe o básico para começar a usar o Jupyter Notebook!\n",
    "### Pratique criando novos notebooks e explorando as possibilidades.\n",
    "### Bons estudos! 🚀"
   ]
  }
 ],
 "metadata": {
  "kernelspec": {
   "display_name": ".venv",
   "language": "python",
   "name": "python3"
  },
  "language_info": {
   "codemirror_mode": {
    "name": "ipython",
    "version": 3
   },
   "file_extension": ".py",
   "mimetype": "text/x-python",
   "name": "python",
   "nbconvert_exporter": "python",
   "pygments_lexer": "ipython3",
   "version": "3.11.2"
  }
 },
 "nbformat": 4,
 "nbformat_minor": 2
}
